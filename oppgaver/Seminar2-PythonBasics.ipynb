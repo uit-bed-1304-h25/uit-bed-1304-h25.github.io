{
 "cells": [
  {
   "cell_type": "markdown",
   "metadata": {},
   "source": [
    "# **Seminar 2 - Python Basics**\n",
    "\n",
    "For å bygge en god grunnmur i Python, trenger vi å *Python Basics* på plass. Samtidig, vil kuntig intelligens for å hjelpe til med å skrive kode, ikke være like mye til hjelp uten basis-kunnskapene. \n",
    "Dette seminaret vil ha fokus på variabeltyper og det vi gikk igjennom i forelesning 2.\n",
    "\n",
    "Disse oppgavene er tiltenkt seminar - som trening på basiskunnskaper.. Dette er ikke arbeidskrav, men god trening til å forstå basic konsepter.\n",
    "\n",
    "Øv på å bruke Google, forelesningsnotater og pseudokode for å løse oppgaven.\n",
    "\n",
    "Disse oppgavene gir en kort introduksjon til noen helt grunnleggende Python-konsepter. Lykke til! 🚀"
   ]
  },
  {
   "cell_type": "markdown",
   "metadata": {},
   "source": [
    "## 📌 Oppgave 1: Variabeltyper og typekonvertering\n",
    "Opprett tre variabler:\n",
    "\n",
    "* `navn` (streng),\n",
    "* `alder` (heltall),\n",
    "* `høyde` (flyttall).\n",
    "\n",
    "Skriv ut verdiene og deres typer. Deretter konverter alder til en flyttall og høyde til en streng, og skriv ut de nye typene.\n",
    "Kommentarer gjør koden mer forståelig for deg selv og andre."
   ]
  },
  {
   "cell_type": "code",
   "execution_count": null,
   "metadata": {},
   "outputs": [],
   "source": []
  },
  {
   "cell_type": "markdown",
   "metadata": {},
   "source": [
    "## 📌 Oppgave 2: Bruk av f-strings\n",
    "Bruk en f-string til å skrive ut en setning der du kombinerer en streng (`navn`), et heltall (`alder`) og et flyttall (`høyde`).\n"
   ]
  },
  {
   "cell_type": "code",
   "execution_count": null,
   "metadata": {},
   "outputs": [],
   "source": []
  },
  {
   "cell_type": "markdown",
   "metadata": {},
   "source": [
    "## 📌 Oppgave 3: En enkel kalkulator\n",
    "Lag to variabler, `x` og `y`, og utfør følgende operasjoner:\n",
    "\n",
    "* Summen av `x` og `y`\n",
    "* Differansen mellom `x` og `y`\n",
    "* Produktet av `x` og `y`\n",
    "* `x` delt på `y`\n",
    "\n",
    "Skriv ut resultatene på en ryddig måte."
   ]
  },
  {
   "cell_type": "code",
   "execution_count": null,
   "metadata": {},
   "outputs": [],
   "source": []
  },
  {
   "cell_type": "markdown",
   "metadata": {},
   "source": [
    "## 📌 Oppgave 4: Sjekk om et tall er oddetall eller partall\n",
    "Lag en variabel `tall`. Bruk en boolsk sjekk (vha `%`) for å avgjøre om `tall` er partall eller oddetall, og skriv ut et output."
   ]
  },
  {
   "cell_type": "code",
   "execution_count": null,
   "metadata": {},
   "outputs": [],
   "source": []
  },
  {
   "cell_type": "markdown",
   "metadata": {},
   "source": [
    "## 📌 Oppgave 5: Konverter mellom datatyper\n",
    "Definer en variabel `x` som en streng med tall, for eksempel `\"42\"`.\n",
    "\n",
    "* Konverter `x` til et heltall (`int`) og legg til `10`.\n",
    "* Konverter `x` til et flyttall (`float`) og multipliser med `2.5`.\n",
    "\n",
    "Skriv ut resultatene og sjekk datatypene."
   ]
  },
  {
   "cell_type": "code",
   "execution_count": null,
   "metadata": {},
   "outputs": [],
   "source": []
  },
  {
   "cell_type": "markdown",
   "metadata": {},
   "source": [
    "## 📌 Oppgave 6: Bruk av eksponenter\n",
    "Lag en variabel `tall`, og bruk eksponentoperatoren (`**`) for å:\n",
    "\n",
    "* Heve `tall` i andre potens\n",
    "* Beregne kvadratroten av `tall`"
   ]
  },
  {
   "cell_type": "code",
   "execution_count": null,
   "metadata": {},
   "outputs": [],
   "source": []
  },
  {
   "cell_type": "markdown",
   "metadata": {},
   "source": [
    "## 📌 Oppgave 7: Beregn merverdiavgift (MVA)\n",
    "Et produkt koster $800$ kr ekskl. MVA.\n",
    "MVA-satsen er $25$%.\n",
    "\n",
    "* Beregn hvor mye MVA utgjør.\n",
    "* Beregn totalprisen inkl. MVA."
   ]
  },
  {
   "cell_type": "code",
   "execution_count": null,
   "metadata": {},
   "outputs": [],
   "source": []
  },
  {
   "cell_type": "markdown",
   "metadata": {},
   "source": [
    "## 📌 Oppgave 8: Valutakonvertering\n",
    "Du skal veksle $5000$ norske kroner (NOK) til euro (EUR).\n",
    "Kursen er $1$ EUR = $11.5$ NOK.\n",
    "\n",
    "* Hvor mange euro får du?"
   ]
  },
  {
   "cell_type": "markdown",
   "metadata": {},
   "source": []
  },
  {
   "cell_type": "markdown",
   "metadata": {},
   "source": [
    "## 📌 Oppgave 9: Lønnsberegning med skatt\n",
    "En ansatt tjener $50\\;000$ kr per måned, men må betale $35$% i skatt.\n",
    "\n",
    "* Hvor mye sitter personen igjen med etter skatt?"
   ]
  },
  {
   "cell_type": "markdown",
   "metadata": {},
   "source": [
    "## 📌 Oppgave 10: Renteinntekter på bankinnskudd\n",
    "Du setter $20\\;000$ kr i banken med en årlig rente på $3$%.\n",
    "\n",
    "* Hvor mye har du på kontoen etter $1$ år? \n",
    "\n",
    "Skriv et program som løser dette problemet."
   ]
  },
  {
   "cell_type": "code",
   "execution_count": null,
   "metadata": {},
   "outputs": [],
   "source": []
  },
  {
   "cell_type": "markdown",
   "metadata": {},
   "source": [
    "## 📌 Oppgave 11: Nedbetaling av lån\n",
    "Du tar opp et lån på $300\\;000$ kr med en rente på $5$% per år.\n",
    "Du betaler $50\\;000$ kr per år.\n",
    "\n",
    "* Hvor mye gjeld har du igjen etter ett år?\n",
    "\n",
    "Skriv et program som tar inn disse verdien som variabler og løser oppgaven."
   ]
  },
  {
   "cell_type": "code",
   "execution_count": null,
   "metadata": {},
   "outputs": [],
   "source": []
  },
  {
   "cell_type": "markdown",
   "metadata": {},
   "source": [
    "# You made it! 🚀🚀🚀"
   ]
  }
 ],
 "metadata": {
  "kernelspec": {
   "display_name": "Python (myenv)",
   "language": "python",
   "name": "myenv"
  },
  "language_info": {
   "codemirror_mode": {
    "name": "ipython",
    "version": 3
   },
   "file_extension": ".py",
   "mimetype": "text/x-python",
   "name": "python",
   "nbconvert_exporter": "python",
   "pygments_lexer": "ipython3",
   "version": "3.11.7"
  }
 },
 "nbformat": 4,
 "nbformat_minor": 2
}

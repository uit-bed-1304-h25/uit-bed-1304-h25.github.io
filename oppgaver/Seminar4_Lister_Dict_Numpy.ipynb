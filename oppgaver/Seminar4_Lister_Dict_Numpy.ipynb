{
 "cells": [
  {
   "cell_type": "markdown",
   "metadata": {},
   "source": [
    "# Seminar 4 - **Lister, oppslag og numpy**\n",
    "Til nå har vi sett på fundamentale prinsipper i Python, som variabler og funksjoner. I dette seminaret vil dere øve på bruk av biblioteket ```NumPy```, lister og dictionaries.\n",
    "\n",
    "Øv på å bruke Google, forelesningsnotater og pseudokode for å løse oppgaven."
   ]
  },
  {
   "cell_type": "markdown",
   "metadata": {},
   "source": [
    "## Oppgave 1: Jobbe med *lister* - **Analyse av Økonomiske Indikatorer**\n",
    "\n",
    "I denne oppgaven skal du lage en liste som inneholder de månedlige inntektene til en husholdning over et år. Du skal deretter utføre ulike analyser på listen.\n",
    "\n",
    "1. Lag en liste som inneholder inntektene for hver måned, for eksempel: [30000, 32000, 31000, 33000, 34000, 35000, 36000, 37000, 38000, 39000, 40000, 41000].\n",
    "2. Beregn den totale inntekten for året.\n",
    "3. Finn den gjennomsnittlige månedlige inntekten.\n",
    "4. Finn den høyeste og laveste inntekten."
   ]
  },
  {
   "cell_type": "code",
   "execution_count": null,
   "metadata": {},
   "outputs": [],
   "source": []
  },
  {
   "cell_type": "markdown",
   "metadata": {},
   "source": [
    "## Oppgave 2: Introduksjon til NumPy - **Statistisk Analyse av Data med NumPy**\n",
    "I denne oppgaven skal du bruke NumPy for å analysere en dataset som representerer månedlige utgifter til en husholdning.\n",
    "\n",
    "1. Importer NumPy.\n",
    "2. Lag en NumPy-array med månedlige utgifter, for eksempel: [20000, 21000, 22000, 23000, 24000, 25000, 26000, 27000, 28000, 29000, 30000, 31000].\n",
    "3. Beregn den totale utgiften.\n",
    "4. Finn gjennomsnittlige månedlige utgifter.\n",
    "5. Finn medianen av utgiftene.\n",
    "6. Lag en funksjon som løser alle problemene over."
   ]
  },
  {
   "cell_type": "code",
   "execution_count": null,
   "metadata": {},
   "outputs": [],
   "source": []
  },
  {
   "cell_type": "markdown",
   "metadata": {},
   "source": [
    "## Oppgave 3: Bruke Dictionaries - **Økonomiske Data som Dictionaries**\n",
    "I denne oppgaven skal du bruke dictionaries for å lagre og analysere data om inntekter og utgifter for forskjellige husholdninger.\n",
    "\n",
    "1. Lag en dictionary som inneholder inntektene og utgiftene til tre husholdninger. For eksempel:\n",
    "```python\n",
    "        husholdninger = {\n",
    "            'Husholdning A': {'inntekt': 40000, 'utgift': 25000},\n",
    "            'Husholdning B': {'inntekt': 50000, 'utgift': 30000},\n",
    "            'Husholdning C': {'inntekt': 45000, 'utgift': 27000}\n",
    "        }\n",
    "\n",
    "```\n",
    "2. Beregn og skriv ut nettoinntekten (inntekt - utgift) for hver husholdning.\n",
    "3. Finn hvilken husholdning som har høyest nettoinntekt."
   ]
  },
  {
   "cell_type": "code",
   "execution_count": null,
   "metadata": {},
   "outputs": [],
   "source": []
  },
  {
   "cell_type": "markdown",
   "metadata": {},
   "source": [
    "## Oppgave 4: Bruke **Dictionaries og Funksjoner**\n",
    "Kombiner det du lærte om funksjoner, tidligere i kurset, for å løse oppgave 3.2 og 3.3 ved hjelp av *én funksjon*.\n",
    "\n",
    "Her kan du få bruk for en `for`-løkke. Dette har vi ikke gått igjennom i kurset, men er en måte å iterere gjennom en liste. Sjekk ut eksempler på Google."
   ]
  },
  {
   "cell_type": "code",
   "execution_count": null,
   "metadata": {},
   "outputs": [],
   "source": []
  }
 ],
 "metadata": {
  "kernelspec": {
   "display_name": "Python (myenv)",
   "language": "python",
   "name": "myenv"
  },
  "language_info": {
   "codemirror_mode": {
    "name": "ipython",
    "version": 3
   },
   "file_extension": ".py",
   "mimetype": "text/x-python",
   "name": "python",
   "nbconvert_exporter": "python",
   "pygments_lexer": "ipython3",
   "version": "3.11.7"
  }
 },
 "nbformat": 4,
 "nbformat_minor": 2
}

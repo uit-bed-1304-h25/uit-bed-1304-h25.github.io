{
 "cells": [
  {
   "cell_type": "markdown",
   "metadata": {},
   "source": [
    "# Seminar 5 - **Pandas og databehandling**\n",
    "Til nå har vi sett på fundamentale prinsipper i Python, som variabler, funksjoner, lister, dictionaries og NumPy. I dette seminaret vil dere øve på bruk av biblioteket ```Pandas```, og hvordan vi kan bruke dette til behandling av data.\n",
    "\n",
    "Øv på å bruke Google, forelesningsnotater og pseudokode for å løse oppgaven."
   ]
  },
  {
   "cell_type": "markdown",
   "metadata": {},
   "source": [
    "## 📌 Oppgave 1: Opprette en Pandas DataFrame\n",
    "Opprett en DataFrame som inneholder informasjon om tre forskjellige produkter:\n",
    "\n",
    "**Kolonner**: \"Produkt\", \"Pris\", \"Lager\"\n",
    "\n",
    "**Data**:\n",
    "\n",
    "* \"Eple\", 10 kr, 100 stk\n",
    "* \"Banan\", 15 kr, 150 stk\n",
    "* \"Appelsin\", 12 kr, 80 stk\n",
    "\n",
    "Skriv ut hele DataFrame-en."
   ]
  },
  {
   "cell_type": "code",
   "execution_count": 1,
   "metadata": {},
   "outputs": [],
   "source": [
    "# Importerer biblioteket\n",
    "import pandas as pd\n"
   ]
  },
  {
   "cell_type": "markdown",
   "metadata": {},
   "source": [
    "## 📌 Oppgave 2: Filtrere Data i en DataFrame\n",
    "Bruk DataFrame-en fra Oppgave 1.\n",
    "\n",
    "Finn og skriv ut alle produkter med en pris over 12 kr."
   ]
  },
  {
   "cell_type": "code",
   "execution_count": null,
   "metadata": {},
   "outputs": [],
   "source": []
  },
  {
   "cell_type": "markdown",
   "metadata": {},
   "source": [
    "## 📌 Oppgave 3: Legge til en Ny Kolonne\n",
    "Legg til en ny kolonne `Total verdi` i DataFrame-en. Den skal vise **pris × lager** for hvert produkt.\n"
   ]
  },
  {
   "cell_type": "code",
   "execution_count": null,
   "metadata": {},
   "outputs": [],
   "source": []
  },
  {
   "cell_type": "markdown",
   "metadata": {},
   "source": [
    "## 📌 Oppgave 4: Laste Inn Data fra en CSV-fil\n",
    "Last inn csv-filen som heter `StudentPerformanceFactors.csv` fra data mappen til kurset. Den finner dere [her](https://github.com/uit-bed-1304-h25/uit-bed-1304-h25.github.io/blob/main/data/StudentPerformanceFactors.csv).\n",
    "\n",
    "Print ut de første fem radene av  dataene ved hjelp av funksjonen\n",
    "\n",
    "```python\n",
    "    df.head()\n",
    "```"
   ]
  },
  {
   "cell_type": "code",
   "execution_count": null,
   "metadata": {},
   "outputs": [],
   "source": []
  },
  {
   "cell_type": "markdown",
   "metadata": {},
   "source": [
    "## 📌 Oppgave 5: Finn Gjennomsnittlig Eksamensscore\n",
    "Bruk `Pandas` til å finne **gjennomsnittlig eksamensscore** for hele datasettet."
   ]
  },
  {
   "cell_type": "code",
   "execution_count": null,
   "metadata": {},
   "outputs": [],
   "source": []
  },
  {
   "cell_type": "markdown",
   "metadata": {},
   "source": [
    "## 📌 Oppgave 6: Tell Antall Elever med og uten Internett\n",
    "Bruk Pandas til å finne ut hvor mange elever som har tilgang til internett og hvor mange som ikke har det.\n",
    "\n",
    "Da vil du ha bruk for funksjonen ```value_counts``` til Pandas."
   ]
  },
  {
   "cell_type": "code",
   "execution_count": null,
   "metadata": {},
   "outputs": [],
   "source": []
  },
  {
   "cell_type": "markdown",
   "metadata": {},
   "source": [
    "## 📌 Oppgave 7: Histogram over Studietimer\n",
    "Vis hvor mange elever som går på **Public** vs. **Private** skoler ved å lage et histogram vha Pandas."
   ]
  },
  {
   "cell_type": "code",
   "execution_count": null,
   "metadata": {},
   "outputs": [],
   "source": []
  },
  {
   "cell_type": "markdown",
   "metadata": {},
   "source": [
    "## 📌 Oppgave 8: Utforsk Dataene med Pandas\n",
    "I denne oppgaven skal du bruke Pandas' innebygde metoder for å undersøke datasettet om studentenes og deres vaner.\n",
    "\n",
    "### **a) Sjekk informasjon om datasettet**\n",
    "Bruk Pandas til å vise en oversikt over kolonner, datatyper og manglende verdier."
   ]
  },
  {
   "cell_type": "code",
   "execution_count": null,
   "metadata": {},
   "outputs": [],
   "source": []
  },
  {
   "cell_type": "markdown",
   "metadata": {},
   "source": [
    "### **b) Vis de første 5 radene i datasettet**\n",
    "Se hvordan dataene ser ut ved å hente ut de første radene."
   ]
  },
  {
   "cell_type": "code",
   "execution_count": null,
   "metadata": {},
   "outputs": [],
   "source": []
  },
  {
   "cell_type": "markdown",
   "metadata": {},
   "source": [
    "### **c) Finn antall rader og kolonner**\n",
    "Bruk Pandas for å finne ut hvor mange rader og kolonner datasettet inneholder."
   ]
  },
  {
   "cell_type": "code",
   "execution_count": null,
   "metadata": {},
   "outputs": [],
   "source": []
  },
  {
   "cell_type": "markdown",
   "metadata": {},
   "source": [
    "### **d) Sjekk om det finnes manglende verdier**\n",
    "Finn ut om noen kolonner har **NaN**-verdier."
   ]
  },
  {
   "cell_type": "code",
   "execution_count": null,
   "metadata": {},
   "outputs": [],
   "source": []
  },
  {
   "cell_type": "markdown",
   "metadata": {},
   "source": [
    "### **e) Beskriv datasettet med statistikk**\n",
    "Få et raskt overblikk over numeriske kolonner. Bruk `describe()` funksjonen til Pandas. Hva kan finner vi ut her?"
   ]
  },
  {
   "cell_type": "code",
   "execution_count": null,
   "metadata": {},
   "outputs": [],
   "source": []
  }
 ],
 "metadata": {
  "kernelspec": {
   "display_name": "myenv",
   "language": "python",
   "name": "python3"
  },
  "language_info": {
   "codemirror_mode": {
    "name": "ipython",
    "version": 3
   },
   "file_extension": ".py",
   "mimetype": "text/x-python",
   "name": "python",
   "nbconvert_exporter": "python",
   "pygments_lexer": "ipython3",
   "version": "3.12.2"
  }
 },
 "nbformat": 4,
 "nbformat_minor": 2
}

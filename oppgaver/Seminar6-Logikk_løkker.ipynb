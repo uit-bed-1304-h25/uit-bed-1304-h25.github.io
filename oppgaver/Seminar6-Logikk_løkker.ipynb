{
 "cells": [
  {
   "cell_type": "markdown",
   "metadata": {},
   "source": [
    "# Seminar 6 - **Logikk og løkker (løsningsforslag)**\n",
    "Til nå har vi sett på fundamentale prinsipper i Python, som variabler, funksjoner, lister, dictionaries og NumPy. I dette seminaret vil dere øve på bruk av logikk, ulike løkker og hvordan vi kan bruke dette i ulike problemstillinger.\n",
    "\n",
    "Øv på å bruke Google, forelesningsnotater og pseudokode for å løse oppgaven."
   ]
  },
  {
   "cell_type": "markdown",
   "metadata": {},
   "source": [
    "## 📌 Oppgave 1: Rabatt på Kjøp\n",
    "En butikk gir 10% rabatt hvis kunden handler for mer enn 1000 kr.\n",
    "\n",
    "Skriv en kode som tar inn en totalpris og sjekker om kunden får rabatt eller ikke."
   ]
  },
  {
   "cell_type": "code",
   "execution_count": null,
   "metadata": {},
   "outputs": [],
   "source": []
  },
  {
   "cell_type": "markdown",
   "metadata": {},
   "source": [
    "## 📌 Oppgave 2: Lånesøknadsgodkjenning\n",
    "En bank godkjenner lån dersom kunden tjener minst $500,000$ kr i året og ikke har betalingsanmerkninger.\n",
    "\n",
    "Lag en `if`/`else` setning, som tar inn `inntekt` og `betalingsanmerkning` (\"ja\" eller \"nei\")."
   ]
  },
  {
   "cell_type": "code",
   "execution_count": null,
   "metadata": {},
   "outputs": [],
   "source": []
  },
  {
   "cell_type": "markdown",
   "metadata": {},
   "source": [
    "## 📌 Oppgave 3: Beregn Totalt Sparebeløp\n",
    "En person setter inn $1000$ kr på en sparekonto hver måned. Banken gir $2$% årlig rente, men renten legges ikke til før på slutten av året.\n",
    "\n",
    "Skriv en `for`-løkke som simulerer 5 år med sparing og beregner hvor mye penger personen har etter denne perioden."
   ]
  },
  {
   "cell_type": "code",
   "execution_count": null,
   "metadata": {},
   "outputs": [],
   "source": []
  },
  {
   "cell_type": "markdown",
   "metadata": {},
   "source": [
    "## 📌 Oppgave 4: Skatteberegning med If/Else\n",
    "En person må betale skatt basert på følgende inntektsnivå:\n",
    "\n",
    "* Under **200,000 kr**: **0% skatt**\n",
    "* Mellom **200,000 kr** - **500,000 kr**: **20% skatt**\n",
    "* Over **500,000 kr**: **35% skatt**\n",
    "\n",
    "Lag en `if`/`elif`/`else` setning, som tar inn `inntekt`, og beregner hvor mye man må betale i skatt."
   ]
  },
  {
   "cell_type": "code",
   "execution_count": null,
   "metadata": {},
   "outputs": [],
   "source": []
  },
  {
   "cell_type": "markdown",
   "metadata": {},
   "source": [
    "## 📌 Oppgave 5: Lån med For-løkke\n",
    "En person tar opp et lån på $10,000$ kr med en årlig rente på $5$%.\n",
    "\n",
    "Skriv en for-løkke som viser hvor mye lånet vokser hvert år i 5 år."
   ]
  },
  {
   "cell_type": "code",
   "execution_count": null,
   "metadata": {},
   "outputs": [],
   "source": []
  },
  {
   "cell_type": "markdown",
   "metadata": {},
   "source": [
    "## 📌 Oppgave 6: Sparing med While-løkke\n",
    "En person starter med $0$ kr på en sparekonto og setter inn $900$ kr per måned.\n",
    "\n",
    "Skriv en while-løkke som beregner hvor mange måneder det tar å spare opp $50,000$ kr."
   ]
  },
  {
   "cell_type": "code",
   "execution_count": null,
   "metadata": {},
   "outputs": [],
   "source": []
  },
  {
   "cell_type": "markdown",
   "metadata": {},
   "source": [
    "## 📌 Oppgave 7: Budsjettkontroll med For-løkke og If\n",
    "En person har ført utgifter de siste månedene, og ser slik ut:\n",
    "```utgifter = [12000, 8500, 10000, 13000, 7500, 11000]```\n",
    "\n",
    "Skriv en `for`-løkke som sjekker hvor mange måneder personen brukte mer enn $10,000$ kr.\n",
    "\n",
    "Hint: Her vil du fort få bruk for både `for`-løkke og en `if` betingelse."
   ]
  },
  {
   "cell_type": "code",
   "execution_count": null,
   "metadata": {},
   "outputs": [],
   "source": []
  },
  {
   "cell_type": "markdown",
   "metadata": {},
   "source": [
    "## 📌 Oppgave 8: Sparing og Økonomiske Beslutninger\n",
    "En person ønsker å spare opp $100,000$ kr til egenkapital mot boligkjøp. Hver måned setter de inn et fast beløp på kontoen sin.\n",
    "Du skal lage et program som:\n",
    "\n",
    "* Ber brukeren skrive inn hvor mye de vil spare per måned.\n",
    "* Bruker en while-løkke for å beregne hvor mange måneder det tar å nå $100,000$ kr.\n",
    "* Bruker en for-løkke for å skrive ut saldoen for hver måned.\n",
    "* Bruker if/elif/else for å gi forskjellige meldinger underveis basert på saldoen.\n",
    "* Legger alt i en funksjon, slik at vi kan kalle `sparing()` for å kjøre programmet."
   ]
  },
  {
   "cell_type": "code",
   "execution_count": null,
   "metadata": {},
   "outputs": [],
   "source": []
  }
 ],
 "metadata": {
  "kernelspec": {
   "display_name": "myenv",
   "language": "python",
   "name": "python3"
  },
  "language_info": {
   "codemirror_mode": {
    "name": "ipython",
    "version": 3
   },
   "file_extension": ".py",
   "mimetype": "text/x-python",
   "name": "python",
   "nbconvert_exporter": "python",
   "pygments_lexer": "ipython3",
   "version": "3.12.2"
  }
 },
 "nbformat": 4,
 "nbformat_minor": 2
}

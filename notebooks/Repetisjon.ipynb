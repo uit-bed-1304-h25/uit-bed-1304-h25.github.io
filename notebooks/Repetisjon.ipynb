{
 "cells": [
  {
   "cell_type": "markdown",
   "id": "44886fcb-8397-47dc-ab96-063adeea6cf4",
   "metadata": {
    "jp-MarkdownHeadingCollapsed": true,
    "tags": []
   },
   "source": [
    "<span style=\"color:#9bb1d4;font-size:30px;font-weight:900\"> Repetisjon - Logikk og løkker 🧠 </span>  "
   ]
  },
  {
   "cell_type": "markdown",
   "id": "1336c37a",
   "metadata": {},
   "source": [
    "Etter forrige forelesning (om simulering), hadde vi en spørreundersøkelse om hva dere ønsket mer repetisjon på.\n",
    "Vinneren der var **Tema 6 - Logikk og løkker**, som omhandler `if`-setninger, `for`-løkker og `while`-løkker. Alle disse er nødvendige for en som skal kunne bruke Python, tenke *algoritmisk*, løse problemer og ekstremt relevant for eksamen.\n",
    "\n",
    "* #### **Logikk (`if`, `elif` og `else`):** Betingelser er nødvendig for å la koden ta valg.\n",
    "* #### **Løkker (`for`/`while`):** Løkker er selve *kjernen* i simulering, da de kan hjelpe oss å repetere noe igjen og igjen.\n",
    "Men først, skal vi ta noen helt enkle eksempler, for å få dette innøvd."
   ]
  },
  {
   "cell_type": "code",
   "execution_count": 26,
   "id": "4ffff9da",
   "metadata": {},
   "outputs": [
    {
     "name": "stdout",
     "output_type": "stream",
     "text": [
      "variable a = 17\n"
     ]
    }
   ],
   "source": [
    "a = int(input(\"Skriv inn et tall:\"))\n",
    "\n",
    "if a == 15:\n",
    "\tprint(a)\n",
    "\n",
    "print(f\"variable a = {a}\")"
   ]
  },
  {
   "cell_type": "markdown",
   "id": "0183ec8b",
   "metadata": {},
   "source": [
    "______"
   ]
  },
  {
   "cell_type": "markdown",
   "id": "ea2c0689",
   "metadata": {},
   "source": [
    "## Del 1: Logikk med `if`, `elif` og `else`\n",
    "Logikk lar oss styre koden dit vi ønsker. Programmet kan ta valg basert på om en betingelse er sann (`True`) eller usann (`False`).\n",
    "\n",
    "* `if`: Sjekker om en betingelse er sann. Hvis Ja, kjører kodeblokken.\n",
    "* `elif`: Sjekker en ny betingelse, kun hvis den forrige `if`-en var usann.\n",
    "* `else`: Kjører dersom ingen av de foregående betingelsene var sanne.\n",
    "\n",
    "### Hvordan ser koden ut:\n",
    "```python\n",
    "    if betingelse1:\n",
    "        # Kode som kjøres hvis betingelse1 er sann\n",
    "    elif betingelse2:\n",
    "        # Kode som kjøres hvis betingelse2 er sann\n",
    "    else:\n",
    "        # Kode som kjøres hvis ingen av betingelsene er sanne\n",
    "```\n",
    "Her kan vi legge til \"så mange vi vil\" av ```elif```-statements. Men bare én ```if``` og én ```else```."
   ]
  },
  {
   "cell_type": "markdown",
   "id": "2cecda64",
   "metadata": {},
   "source": [
    "## Eksempel 1: Aldersjekk\n",
    "Her sjekker vi en variabel `alder` og skriver ut en passende melding om personen kan kalles *senior*, *voksen* eller *barn*. Typiske anvendelser for dette er i salg av varer, som endres basert på alder."
   ]
  },
  {
   "cell_type": "code",
   "execution_count": 24,
   "id": "f6672798",
   "metadata": {},
   "outputs": [
    {
     "name": "stdout",
     "output_type": "stream",
     "text": [
      "Du er et barn.\n"
     ]
    }
   ],
   "source": [
    "# Prøv å endre verdien til 'alder' og kjør cellen på nytt!\n",
    "alder = 17\n",
    "\n",
    "if alder >= 65:\n",
    "    print(\"Du er en senior.\")\n",
    "elif alder >= 18:\n",
    "    print(\"Du er en voksen.\")\n",
    "else:\n",
    "    print(\"Du er et barn.\")"
   ]
  },
  {
   "cell_type": "markdown",
   "id": "157767fd",
   "metadata": {},
   "source": [
    "## 🧠 Kontrollstrukturer i Python — Betingelser\n",
    "\n",
    "| Komponent         | Beskrivelse                                           | Eksempel                        |\n",
    "|--------------------|-------------------------------------------------------|---------------------------------|\n",
    "| **if**             | Sjekker en betingelse; hvis sann, kjør koden under    | `if x > 10:`                    |\n",
    "| **else**           | Kjør koden under hvis if-betingelsen er usann         | `else:`                         |\n",
    "| **elif**           | Sjekker en annen betingelse hvis `if` er usann        | `elif x > 5:`                   |\n",
    "| **betingelse**     | Uttrykk som evalueres til `True` eller `False`        | `x == 10`, `y < 5`, `z != 0`, `alder >= 18` |\n",
    "| **and / or / not** | Kombinerer eller endrer flere betingelser: <br>• `and` krever at begge er sanne <br>• `or` krever at minst én er sann <br>• `not` snur sannhetsverdien | `if x > 5 and y < 10:` <br>`if alder < 18 or student:` <br>`if not ferdig:` |\n",
    "| **blokk**          | Koden som kjøres hvis betingelsen er oppfylt          | `print(\"Hello\")`                |\n",
    "\n",
    "\n",
    "```if/else```-setninger er essensielle for å implementere beslutningstaking i programmer. De gir programmene evnen til å håndtere forskjellige situasjoner og tilpasse seg forskjellige innganger. Ved å bruke disse setningene kan vi lage dynamiske og responsive programmer som reagerer på brukerens input eller andre forhold."
   ]
  },
  {
   "cell_type": "markdown",
   "id": "94621288",
   "metadata": {},
   "source": [
    "## Oppgave 1: Karakterberegning\n",
    "Lag en funksjon som tar inn en poengsum (`score` fra 0-100), og returnerer en karakter basert på disse reglene.\n",
    "* 90 - 100: \"A\"\n",
    "* 80 - 89: \"B\"\n",
    "* 60 - 79: \"C\"\n",
    "* 40 - 59: \"D\"\n",
    "* Under 40: \"F\""
   ]
  },
  {
   "cell_type": "code",
   "execution_count": 2,
   "id": "0dae1ee2",
   "metadata": {},
   "outputs": [],
   "source": [
    "# Din løsning her:\n"
   ]
  },
  {
   "cell_type": "markdown",
   "id": "fc5b885b",
   "metadata": {},
   "source": [
    "## Del 2: `for`-løkker - Repetisjon over sekvenser\n",
    "En `for`-løkke er perfekt når du vil gjøre noe for **hvert element** i en samling, som en liste eller et tallområde (`range()`).\n",
    "\n",
    "### Eksempel 2: Skriv ut en liste\n",
    "Her går vi gjennom hvert element i en liste med frukt og skriver det ut.\n"
   ]
  },
  {
   "cell_type": "code",
   "execution_count": 4,
   "id": "1fef532e",
   "metadata": {},
   "outputs": [
    {
     "name": "stdout",
     "output_type": "stream",
     "text": [
      "Jeg liker Eple\n",
      "Jeg liker Banan\n",
      "Jeg liker Appelsin\n"
     ]
    }
   ],
   "source": [
    "frukter = [\"Eple\", \"Banan\", \"Appelsin\"]\n",
    "\n",
    "for frukt in frukter:\n",
    "    print(f\"Jeg liker {frukt}\")"
   ]
  },
  {
   "cell_type": "markdown",
   "id": "db506614",
   "metadata": {},
   "source": [
    "### Oppgave til eksempel 2\n",
    "I eksempelet over, så skriver vi `for frukt in frukter`, og `frukt` er vår *iterasjonsvariabel*. Kan vi løse dette problemet ved hjelp av det vi kan om lister, og indeksering av lister?"
   ]
  },
  {
   "cell_type": "code",
   "execution_count": null,
   "id": "e5800a23",
   "metadata": {},
   "outputs": [],
   "source": []
  },
  {
   "cell_type": "markdown",
   "id": "da9373c8",
   "metadata": {},
   "source": [
    "### `for` løkker, og `range()`-funksjonen"
   ]
  },
  {
   "cell_type": "code",
   "execution_count": 5,
   "id": "ffcc087e",
   "metadata": {},
   "outputs": [
    {
     "name": "stdout",
     "output_type": "stream",
     "text": [
      "Tallet er 1\n",
      "Tallet er 2\n",
      "Tallet er 3\n",
      "Tallet er 4\n",
      "Tallet er 5\n",
      "Tallet er 6\n",
      "Tallet er 7\n",
      "Tallet er 8\n",
      "Tallet er 9\n"
     ]
    }
   ],
   "source": [
    "tall = range(1, 10)\n",
    "\n",
    "for i in tall:\n",
    "    print(f\"Tallet er {i}\")"
   ]
  },
  {
   "cell_type": "markdown",
   "id": "a0525472",
   "metadata": {},
   "source": [
    "## Oppgave 2: Summer en liste\n",
    "Bruk en `for`-løkke til å beregne den totale summen av alle tallene i listen `inntekter`."
   ]
  },
  {
   "cell_type": "code",
   "execution_count": 6,
   "id": "2ecf2ef6",
   "metadata": {},
   "outputs": [],
   "source": [
    "inntekter = [3000, 3200, 3500, 2800, 3100]\n",
    "\n",
    "# Fortsett din kode her\n"
   ]
  },
  {
   "cell_type": "markdown",
   "id": "d044d220",
   "metadata": {},
   "source": [
    "## Oppgave 3: Bruk `for`-løkker til å analysere økonomisk vekst\n",
    "\n",
    "### Bakgrunn\n",
    "Du jobber som økonom i et analyseselskap.  \n",
    "Du skal beregne hvordan et lands BNP utvikler seg over tid, gitt en årlig vekstrate.  \n",
    "I tillegg skal du undersøke hvordan ulike vekstrater påvirker resultatet.\n",
    "\n",
    "---\n",
    "\n",
    "### 🎯 Beregn BNP over tid\n",
    "\n",
    "Startverdien for BNP i 2025 er **500 milliarder kroner**.  \n",
    "Den årlige vekstraten er **2,5 %**.\n",
    "\n",
    "**Oppgave:**  \n",
    "1. Bruk en `for`-løkke med `range()` for å beregne BNP fra 2025 til 2035.  \n",
    "2. Lag en utskrift som viser BNP hvert år.\n",
    "\n",
    "Eksempel på ønsket utskrift:\n",
    "```python\n",
    "År: 2025 - BNP: 500.00\n",
    "År: 2026 - BNP: 512.50\n",
    "...\n",
    "År: 2035 - BNP: 640.95"
   ]
  },
  {
   "cell_type": "code",
   "execution_count": 34,
   "id": "dde95717",
   "metadata": {},
   "outputs": [],
   "source": [
    "# Svar på oppgave 3 her\n"
   ]
  },
  {
   "cell_type": "markdown",
   "id": "c243b52f",
   "metadata": {},
   "source": [
    "# Del 3: `while`-løkker - Repetisjon så lenge noe er sant\n",
    "En `while`-løkke kjører så lenge en betingelse er sann. Den er nyttig når du ikke vet hvor mange repetisjoner du trenger på forhånd.\n",
    "\n",
    "### ⚠️ Viktig: Pass på at betingelsen kan bli usann! \n",
    "Ellers får du en evig løkke. Inne i løkken må du endre på noe som påvirker betingelsen.\n",
    "\n",
    "## Eksempel 3: Nedtelling Her teller vi ned fra 5 til 1."
   ]
  },
  {
   "cell_type": "code",
   "execution_count": 8,
   "id": "1f13eb3f",
   "metadata": {},
   "outputs": [
    {
     "name": "stdout",
     "output_type": "stream",
     "text": [
      "5\n",
      "4\n",
      "3\n",
      "2\n",
      "1\n",
      "Take off! 🚀\n"
     ]
    }
   ],
   "source": [
    "counter = 5\n",
    "\n",
    "while counter > 0:\n",
    "    print(counter)\n",
    "    counter -= 1 # Reduserer 'teller' med 1 for hver runde\n",
    "\n",
    "print(\"Take off! 🚀\")"
   ]
  },
  {
   "cell_type": "markdown",
   "id": "9a8c3b73",
   "metadata": {},
   "source": [
    "## Eksempel 4: Investeringsmål\n",
    "Hvor mange år tar det før en investering på 50.000 kr vokser til 100.000 kr med en årlig avkastning på 7%?"
   ]
  },
  {
   "cell_type": "code",
   "execution_count": 18,
   "id": "d2981432",
   "metadata": {},
   "outputs": [
    {
     "name": "stdout",
     "output_type": "stream",
     "text": [
      "Det tar 11 år før investeringen når 105242 kr.\n"
     ]
    }
   ],
   "source": [
    "# --- Initialverdier ---\n",
    "kapital = 50000   # Startkapital\n",
    "mål = 100000      # Mål for investeringen\n",
    "rente = 0.07      # Årlig rente (7%)\n",
    "år = 0            # Teller for antall år\n",
    "\n",
    "# --- while-løkken ---\n",
    "# Fortsett så lenge kapitalen er MINDRE enn målet\n",
    "while kapital < mål:\n",
    "    kapital = kapital * (1 + rente)  # Legg til årets rente\n",
    "    år = år + 1                      # Øk antall år med 1\n",
    "\n",
    "# --- Resultat ---\n",
    "print(f\"Det tar {år} år før investeringen når {int(kapital)} kr.\")"
   ]
  },
  {
   "cell_type": "markdown",
   "id": "51b8c12c",
   "metadata": {},
   "source": [
    "## 🔁 Kontrollstrukturer i Python — Løkker\n",
    "\n",
    "| Komponent        | Beskrivelse                                           | Eksempel                        |\n",
    "|------------------|-------------------------------------------------------|---------------------------------|\n",
    "| **for**          | Gjentar kode for hvert element i en sekvens           | `for x in range(5):` <br>`for navn in liste:` |\n",
    "**iterasjonsvariabel** |Variabel som brukes inne i en `for` løkke, og itererer gjennom et element. Ofte bruker vi `i`, men kan bruke hva vi vil. | `for i in range(1, 5):`        |\n",
    "| **while**        | Kjører kode så lenge betingelsen er sann              | `while saldo > 0:`              |\n",
    "| **range()**      | Lager en tallrekke, ofte brukt i `for`-løkker         | `for i in range(1, 11):`        |\n",
    "| **liste**         | Samling av verdier som kan itereres over              | `for pris in priser:`           |\n",
    "| **break**        | Stopper løkken helt                                  | `if x > 10: break`              |\n",
    "| **continue**     | Hopper over resten av koden i løkken og fortsetter   | `if x < 0: continue`            |\n",
    "| **iterasjon**    | Ett enkelt gjennomløp i løkken                        | `print(x)` (hver runde i løkken) |"
   ]
  },
  {
   "cell_type": "markdown",
   "id": "bbf35b17",
   "metadata": {},
   "source": [
    "## Oppgave 4: Nå et sparemål\n",
    "Du starter med $1000$ kr og sparer $500$ kr hver måned. Hvor mange måneder tar det å nå et sparemål på $5000$ kr? \n",
    "\n",
    "Bruk en while-løkke."
   ]
  },
  {
   "cell_type": "code",
   "execution_count": 33,
   "id": "773a8592",
   "metadata": {},
   "outputs": [],
   "source": [
    "# Svar på oppgave 4 her\n"
   ]
  },
  {
   "cell_type": "markdown",
   "id": "64997c43",
   "metadata": {},
   "source": [
    "## Oppgave 5: Sparing og renter – bruk av `while`-løkke\n",
    "\n",
    "### Bakgrunn\n",
    "Du jobber som privatøkonomisk rådgiver.  \n",
    "En kunde ønsker å vite **hvor mange år det tar før sparepengene dobles**, gitt en fast årlig rente.\n",
    "\n",
    "---\n",
    "\n",
    "### 🎯 Hvor mange år tar det å doble beløpet?\n",
    "\n",
    "**Forutsetninger:**\n",
    "- Startbeløp: 100 000 kr  \n",
    "- Årlig rente: 3,5 %  \n",
    "\n",
    "**Oppgave:**\n",
    "1. Bruk en `while`-løkke for å beregne hvor mange år det tar før beløpet dobles.  \n",
    "2. Skriv ut beløpet hvert år.  \n",
    "3. Når beløpet er minst dobbelt så stort som startbeløpet, stopp løkken og skriv ut antall år.\n",
    "\n",
    "**Hint:**  \n",
    "Formel for rentevekst:  \n",
    "`saldo = saldo * (1 + rente)`"
   ]
  },
  {
   "cell_type": "code",
   "execution_count": 32,
   "id": "50a56989",
   "metadata": {},
   "outputs": [],
   "source": [
    "# svar på oppgave 5 her\n"
   ]
  },
  {
   "cell_type": "markdown",
   "id": "b536b757",
   "metadata": {},
   "source": [
    "_________"
   ]
  },
  {
   "cell_type": "markdown",
   "id": "520f379b",
   "metadata": {},
   "source": [
    "_________"
   ]
  },
  {
   "cell_type": "markdown",
   "id": "2db88392",
   "metadata": {},
   "source": [
    "_________"
   ]
  },
  {
   "cell_type": "markdown",
   "id": "a74427bc",
   "metadata": {},
   "source": [
    "# **Hvis du fortsatt sliter med temaet Logikk og løkker**\n",
    "- Se over forelesningsnotatene med løsningsforslag.\n",
    "- Se over seminaroppgavene med løsningsforslag.\n",
    "- Se repetisjonsarket.\n",
    "- Bruk internett for det det er verdt! Det finnes tusenvis av video'er på tema, eksempler og oppgaver.\n",
    "- Begge prøve-eksamenene tar for seg dette!"
   ]
  },
  {
   "cell_type": "markdown",
   "id": "1bde0156",
   "metadata": {},
   "source": [
    "___"
   ]
  },
  {
   "cell_type": "markdown",
   "id": "ef9cb8cf",
   "metadata": {},
   "source": [
    "___"
   ]
  },
  {
   "cell_type": "markdown",
   "id": "36d2219c",
   "metadata": {},
   "source": [
    "___"
   ]
  },
  {
   "cell_type": "markdown",
   "id": "08f923d3",
   "metadata": {},
   "source": [
    "# **Løsningsforslag på oppgavene**\n",
    "Under her finner dere løsningsforslag på oppgavene over. Husk at det kun er forslag, og det er mange andre riktige løsninger.\n",
    "\n",
    "Kommenter koden din nøye når du koder, det er nyttig læring (selv om du føler du har kontroll)."
   ]
  },
  {
   "cell_type": "markdown",
   "id": "e7140e63",
   "metadata": {},
   "source": [
    "## Oppgave 1"
   ]
  },
  {
   "cell_type": "code",
   "execution_count": 3,
   "id": "c23144f0",
   "metadata": {},
   "outputs": [
    {
     "name": "stdout",
     "output_type": "stream",
     "text": [
      "En score på 95 gir karakter: A\n",
      "En score på 72 gir karakter: C\n",
      "En score på 33 gir karakter: F\n"
     ]
    }
   ],
   "source": [
    "def beregn_karakter(score):\n",
    "    if score >= 90:\n",
    "        return \"A\"\n",
    "    elif score >= 80:\n",
    "        return \"B\"\n",
    "    elif score >= 60:\n",
    "        return \"C\"\n",
    "    elif score >= 40:\n",
    "        return \"D\"\n",
    "    else:\n",
    "        return \"F\"\n",
    "\n",
    "# Test funksjonen din\n",
    "print(f\"En score på 95 gir karakter: {beregn_karakter(95)}\")\n",
    "print(f\"En score på 72 gir karakter: {beregn_karakter(72)}\")\n",
    "print(f\"En score på 33 gir karakter: {beregn_karakter(33)}\")"
   ]
  },
  {
   "cell_type": "markdown",
   "id": "4063f252",
   "metadata": {},
   "source": [
    "# Oppgave 2"
   ]
  },
  {
   "cell_type": "code",
   "execution_count": null,
   "id": "ad723160",
   "metadata": {},
   "outputs": [],
   "source": [
    "inntekter = [3000, 3200, 3500, 2800, 3100]\n",
    "total_inntekt = 0\n",
    "\n",
    "# Skriver for løkka her\n",
    "for inntekt in inntekter:\n",
    "    total_inntekt += inntekt # Legger til inntekten i totalsummen\n",
    "\n",
    "print(f\"Total inntekt er: {total_inntekt} kr\")"
   ]
  },
  {
   "cell_type": "markdown",
   "id": "06437c38",
   "metadata": {},
   "source": [
    "# Oppgave 3"
   ]
  },
  {
   "cell_type": "code",
   "execution_count": null,
   "id": "e4844085",
   "metadata": {},
   "outputs": [],
   "source": [
    "# Svar på oppgave 3 her\n",
    "start_bnp = 500        # milliarder kroner\n",
    "vekstrate = 0.025      # 2,5 %\n",
    "start_år = 2025\n",
    "slutt_år = 2035\n",
    "\n",
    "print(\"=== BNP-utvikling med 2.5% vekst ===\")\n",
    "\n",
    "bnp = start_bnp\n",
    "for år in range(start_år, slutt_år + 1):\n",
    "    print(f\"År: {år} - BNP: {bnp:.2f} mrd kr\")\n",
    "    bnp = bnp * (1 + vekstrate)"
   ]
  },
  {
   "cell_type": "markdown",
   "id": "f543b592",
   "metadata": {},
   "source": [
    "# Oppgave 4"
   ]
  },
  {
   "cell_type": "code",
   "execution_count": 9,
   "id": "3d046990",
   "metadata": {},
   "outputs": [
    {
     "name": "stdout",
     "output_type": "stream",
     "text": [
      "Det tok 8 måneder å nå sparemålet på 5000 kr.\n",
      "Endelig saldo: 5000 kr.\n"
     ]
    }
   ],
   "source": [
    "sparekonto = 1000\n",
    "sparemål = 5000\n",
    "måneder = 0\n",
    "\n",
    "while sparekonto < sparemål:\n",
    "    sparekonto += 500  # Legg til 500 kr for måneden\n",
    "    måneder += 1       # Tell en måned til\n",
    "\n",
    "print(f\"Det tok {måneder} måneder å nå sparemålet på {sparemål} kr.\")\n",
    "print(f\"Endelig saldo: {sparekonto} kr.\")"
   ]
  },
  {
   "cell_type": "markdown",
   "id": "a6a67551",
   "metadata": {},
   "source": [
    "## Oppgave 5"
   ]
  },
  {
   "cell_type": "code",
   "execution_count": 31,
   "id": "477ecbe9",
   "metadata": {},
   "outputs": [
    {
     "name": "stdout",
     "output_type": "stream",
     "text": [
      "=== Simulering av sparing med 3,5% rente===\n",
      "År 1: 103500.00 kr\n",
      "År 2: 107122.50 kr\n",
      "År 3: 110871.79 kr\n",
      "År 4: 114752.30 kr\n",
      "År 5: 118768.63 kr\n",
      "År 6: 122925.53 kr\n",
      "År 7: 127227.93 kr\n",
      "År 8: 131680.90 kr\n",
      "År 9: 136289.74 kr\n",
      "År 10: 141059.88 kr\n",
      "År 11: 145996.97 kr\n",
      "År 12: 151106.87 kr\n",
      "År 13: 156395.61 kr\n",
      "År 14: 161869.45 kr\n",
      "År 15: 167534.88 kr\n",
      "År 16: 173398.60 kr\n",
      "År 17: 179467.56 kr\n",
      "År 18: 185748.92 kr\n",
      "År 19: 192250.13 kr\n",
      "År 20: 198978.89 kr\n",
      "År 21: 205943.15 kr\n",
      "\n",
      "Det tok 21 år å doble beløpet fra 100000 kr til 205943.15 kr.\n"
     ]
    }
   ],
   "source": [
    "start_beløp = 100_000\n",
    "saldo = start_beløp\n",
    "rente = 0.035  # 3,5 % rente\n",
    "år = 0\n",
    "\n",
    "print(\"=== Simulering av sparing med 3,5% rente===\")\n",
    "\n",
    "# Løkken kjører så lenge saldoen er mindre enn det dobbelte av startbeløpet\n",
    "while saldo < start_beløp * 2:\n",
    "    år += 1\n",
    "    saldo = saldo * (1 + rente)\n",
    "    print(f\"År {år}: {saldo:.2f} kr\")\n",
    "\n",
    "print(f\"\\nDet tok {år} år å doble beløpet fra {start_beløp:.0f} kr til {saldo:.2f} kr.\")"
   ]
  },
  {
   "cell_type": "markdown",
   "id": "1eb7bea6",
   "metadata": {},
   "source": [
    "__________"
   ]
  }
 ],
 "metadata": {
  "kernelspec": {
   "display_name": "Python 3 (ipykernel)",
   "language": "python",
   "name": "python3"
  },
  "language_info": {
   "codemirror_mode": {
    "name": "ipython",
    "version": 3
   },
   "file_extension": ".py",
   "mimetype": "text/x-python",
   "name": "python",
   "nbconvert_exporter": "python",
   "pygments_lexer": "ipython3",
   "version": "3.12.2"
  }
 },
 "nbformat": 4,
 "nbformat_minor": 5
}

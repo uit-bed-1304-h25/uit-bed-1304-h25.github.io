{
 "cells": [
  {
   "cell_type": "markdown",
   "metadata": {},
   "source": [
    "<span style=\"color:#9bb1d4;font-size:30px;font-weight:900\"> Recap av første tre forelesninger i kurset</span>  "
   ]
  },
  {
   "cell_type": "markdown",
   "metadata": {},
   "source": [
    "# Til nå\n",
    "Til nå så har vi godt i gjennom følgende.\n",
    "\n",
    "### 1. **Nedlastning av Python, VSCode og `pip`.**\n",
    "### 2. **Python Basics**\n",
    "### 3. **Funksjoner**"
   ]
  },
  {
   "cell_type": "markdown",
   "metadata": {},
   "source": [
    "## **Forelesning 1**"
   ]
  },
  {
   "cell_type": "markdown",
   "metadata": {},
   "source": [
    "I første forelesning brukte vi tid på nedlastning, Visual Studio Code og `pip` (i seminarene)."
   ]
  },
  {
   "cell_type": "markdown",
   "metadata": {},
   "source": [
    "## Terminal"
   ]
  },
  {
   "cell_type": "code",
   "execution_count": null,
   "metadata": {},
   "outputs": [],
   "source": [
    "# Vis bruken av terminal"
   ]
  },
  {
   "cell_type": "markdown",
   "metadata": {},
   "source": [
    "## Copilot\n",
    "GitHub Copilot er en AI-modell som kan hjelpe oss med (nesten) all kode.\n",
    "\n",
    "Likevel, den kan gjøre feil, og på kronglete vis.\n",
    "Uansett, så er det et knallsterkt verktøy som er lurt å bruk i **læring av Python**.\n",
    "\n",
    "### Nedlastning\n",
    "* Dere må lage en bruker på GitHub - bruk **uit mailen** deres.\n",
    "\n",
    "* Dere kan få det integrert i VSCode, ved å følge instruksene [her](https://docs.github.com/en/copilot/how-tos/manage-your-account/get-free-access-to-copilot-pro). Fordi her kan dere få pro versjonen, ved å sende bilde av StudentWeb, eller studentkortet.\n",
    "\n",
    "* Dere må også laste ned *GitHub Copilot* under Extensions (på venstre siden i VSCode)."
   ]
  },
  {
   "cell_type": "code",
   "execution_count": 11,
   "metadata": {},
   "outputs": [],
   "source": [
    "# Copilot eksempler"
   ]
  },
  {
   "cell_type": "markdown",
   "metadata": {},
   "source": [
    "# **Forelesning 2**\n",
    "I forelesning 2 gikk vi gjennom **variabeltyper** og noen andre **grunnleggende konsepter** i Python.\n",
    "\n",
    "## Variabeltyper\n",
    "\n",
    "Python har flere grunnleggende datatyper:\n",
    "\n",
    "- **Bool** (`True` / `False`)\n",
    "- **Int** (heltall, f.eks. `42`)\n",
    "- **Float** (desimaltall, f.eks. `3.14`)\n",
    "- **Str** (tekst / string, f.eks. `\"Hei verden\"`)\n",
    "\n",
    "### Eksempler\n",
    "```python\n",
    "alder = 25          # int\n",
    "temperatur = 36.6   # float\n",
    "er_student = True   # bool\n",
    "navn = \"Ola Nordmann\" # str\n"
   ]
  },
  {
   "cell_type": "markdown",
   "metadata": {},
   "source": [
    "### **Andre grunnleggende konsepter**\n",
    "* **Kommentarer** starter med `#`.\n",
    "* **Variabeler** defineres med `=`.\n",
    "* **Print-funksjonen** bruker for å skrive ut verdier."
   ]
  },
  {
   "cell_type": "code",
   "execution_count": null,
   "metadata": {},
   "outputs": [],
   "source": [
    "print(\"Hei, verden!\")\n",
    "print(alder)"
   ]
  },
  {
   "cell_type": "code",
   "execution_count": null,
   "metadata": {},
   "outputs": [],
   "source": [
    "sum = 5 + 3       # 8\n",
    "produkt = 4 * 2   # 8"
   ]
  },
  {
   "cell_type": "markdown",
   "metadata": {},
   "source": [
    "# Bruk av `type()` i Python\n",
    "\n",
    "`type()` brukes for å finne **datatypen** til en variabel eller verdi.\n",
    "\n",
    "## Eksempler\n",
    "\n",
    "```python\n",
    "alder = 25\n",
    "temperatur = 36.6\n",
    "er_student = True\n",
    "navn = \"Ola Nordmann\"\n",
    "\n",
    "print(type(alder))        # <class 'int'>\n",
    "print(type(temperatur))   # <class 'float'>\n",
    "print(type(er_student))   # <class 'bool'>\n",
    "print(type(navn))         # <class 'str'>"
   ]
  },
  {
   "cell_type": "code",
   "execution_count": null,
   "metadata": {},
   "outputs": [],
   "source": [
    "print(type(42))           # <class 'int'>\n",
    "print(type(\"hei\"))        # <class 'str'>\n",
    "print(type(3.14))         # <class 'float'>"
   ]
  },
  {
   "cell_type": "markdown",
   "metadata": {},
   "source": [
    "# **Forelesning 3 - Funksjoner**\n",
    "\n",
    "En **funksjon** i Python er en gjenbrukbar kodeblokk som utfører en bestemt oppgave.  \n",
    "Funksjoner gjør programmet mer oversiktlig, reduserer gjentakelse av kode, og gjør det enklere å feilsøke og videreutvikle.\n",
    "\n",
    "## Hvorfor bruke funksjoner?\n",
    "- **Gjenbruk:** Du kan kalle samme funksjon mange ganger uten å skrive koden på nytt.  \n",
    "- **Modularitet:** Koden blir mer strukturert og delt opp i logiske enheter.  \n",
    "- **Fleksibilitet:** Du kan sende inn ulike verdier (argumenter) til funksjonen, og den returnerer et resultat.  \n",
    "\n",
    "## Parametere og argumenter\n",
    "- **Parameter**: En \"plassholder\" i funksjonsdefinisjonen (f.eks. `pris`, `antall`).\n",
    "- **Argument**: Den faktiske verdien du sender inn når du kaller funksjonen (f.eks. `pris=200`, `antall=5`).\n",
    "\n",
    "Eksempel:\n",
    "```python\n",
    "def total_inntekt(pris, antall):\n",
    "    \"\"\"\n",
    "    Beregner total inntekt gitt pris per enhet og antall solgte enheter.\n",
    "    \"\"\"\n",
    "    inntekt = pris * antall\n",
    "    return inntekt\n",
    "\n",
    "# Bruk av funksjonen (argumenter sendes inn)\n",
    "print(total_inntekt(200, 5))   # gir 1000\n",
    "print(total_inntekt(150, 12))  # gir 1800"
   ]
  },
  {
   "cell_type": "code",
   "execution_count": null,
   "metadata": {},
   "outputs": [],
   "source": [
    "# Skriv en funksjon kvadrat(x) som returnerer kvadratet av tallet x."
   ]
  },
  {
   "cell_type": "code",
   "execution_count": 10,
   "metadata": {},
   "outputs": [],
   "source": [
    "# Skriv en funksjon som tar inn lønn, og skattesats, og returnerer lønn etter skatt."
   ]
  },
  {
   "cell_type": "markdown",
   "metadata": {},
   "source": [
    "# **Oppgaver**"
   ]
  },
  {
   "cell_type": "code",
   "execution_count": null,
   "metadata": {},
   "outputs": [],
   "source": []
  }
 ],
 "metadata": {
  "kernelspec": {
   "display_name": "myenv",
   "language": "python",
   "name": "python3"
  },
  "language_info": {
   "codemirror_mode": {
    "name": "ipython",
    "version": 3
   },
   "file_extension": ".py",
   "mimetype": "text/x-python",
   "name": "python",
   "nbconvert_exporter": "python",
   "pygments_lexer": "ipython3",
   "version": "3.12.2"
  }
 },
 "nbformat": 4,
 "nbformat_minor": 2
}
